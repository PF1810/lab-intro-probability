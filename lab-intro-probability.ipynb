{
 "cells": [
  {
   "cell_type": "markdown",
   "metadata": {},
   "source": [
    "# Lab | Intro to Probability"
   ]
  },
  {
   "cell_type": "markdown",
   "metadata": {},
   "source": [
    "**Objective**\n",
    "\n",
    "Welcome to this Intro to Probability lab, where we explore decision-making scenarios through the lens of probability and strategic analysis. In the business world, making informed decisions is crucial, especially when faced with uncertainties. This lab focuses on scenarios where probabilistic outcomes play a significant role in shaping strategies and outcomes. Students will engage in exercises that require assessing and choosing optimal paths based on data-driven insights. The goal is to enhance your skills by applying probability concepts to solve real-world problems."
   ]
  },
  {
   "cell_type": "markdown",
   "metadata": {},
   "source": [
    "**Challenge 1**"
   ]
  },
  {
   "cell_type": "markdown",
   "metadata": {},
   "source": [
    "#### Ironhack Airlines \n",
    "\n",
    "Often Airlines sell more tickets than they have seats available, this is called overbooking. Consider the following:\n",
    "- A plane has 450 seats. \n",
    "- Based on historical data we conclude that each individual passenger has a 3% chance of missing it's flight. \n",
    "\n",
    "If the Ironhack Airlines routinely sells 460 tickets, what is the chance that they have a seats for all passenger?"
   ]
  },
  {
   "cell_type": "code",
   "execution_count": 1,
   "metadata": {},
   "outputs": [
    {
     "name": "stdout",
     "output_type": "stream",
     "text": [
      "Probability that there are enough seats for all passengers: 0.8505\n"
     ]
    }
   ],
   "source": [
    "import scipy.stats as stats\n",
    "\n",
    "# Parameters\n",
    "n = 460  # number of tickets sold\n",
    "p = 0.97  # probability a passenger shows up\n",
    "seats = 450\n",
    "\n",
    "# Calculate the mean and standard deviation of the binomial distribution\n",
    "mean = n * p\n",
    "std = (n * p * (1 - p)) ** 0.5\n",
    "\n",
    "# Calculate the Z-score for 450 passengers\n",
    "z_score = (seats - mean) / std\n",
    "\n",
    "# Calculate the probability that no more than 450 passengers show up\n",
    "probability = stats.norm.cdf(z_score)\n",
    "\n",
    "print(f\"Probability that there are enough seats for all passengers: {probability:.4f}\")\n"
   ]
  },
  {
   "cell_type": "markdown",
   "metadata": {},
   "source": [
    "**Challenge 2**"
   ]
  },
  {
   "cell_type": "markdown",
   "metadata": {},
   "source": [
    "#### Ironhack Call Center "
   ]
  },
  {
   "cell_type": "markdown",
   "metadata": {},
   "source": [
    "Suppose a customer service representative at a call center is handling customer complaints. Consider the following:\n",
    "- The probability of successfully resolving a customer complaint on the first attempt is 0.3. \n",
    "\n",
    "\n",
    "What is the probability that the representative needs to make at least three attempts before successfully resolving a customer complaint?"
   ]
  },
  {
   "cell_type": "code",
   "execution_count": 2,
   "metadata": {},
   "outputs": [
    {
     "name": "stdout",
     "output_type": "stream",
     "text": [
      "Probability that at least 3 attempts are needed: 0.4900\n"
     ]
    }
   ],
   "source": [
    "# Parameters\n",
    "p = 0.3  # probability of success on each attempt\n",
    "\n",
    "# Calculate the probability of needing at least 3 attempts\n",
    "probability = (1 - p)**2\n",
    "\n",
    "print(f\"Probability that at least 3 attempts are needed: {probability:.4f}\")\n"
   ]
  },
  {
   "cell_type": "markdown",
   "metadata": {},
   "source": [
    "**Challenge 3**"
   ]
  },
  {
   "cell_type": "markdown",
   "metadata": {},
   "source": [
    "#### Ironhack Website"
   ]
  },
  {
   "cell_type": "markdown",
   "metadata": {},
   "source": [
    "Consider a scenario related to Ironhack website traffic. Where:\n",
    "- our website takes on average 500 visits per hour.\n",
    "- the website's server is designed to handle up to 550 vists per hour.\n",
    "\n",
    "\n",
    "What is the probability of the website server being overwhelmed?"
   ]
  },
  {
   "cell_type": "code",
   "execution_count": 3,
   "metadata": {},
   "outputs": [
    {
     "name": "stdout",
     "output_type": "stream",
     "text": [
      "Probability of being overwhelmed in one hour: 0.0129\n"
     ]
    }
   ],
   "source": [
    "import numpy as np\n",
    "\n",
    "# Parameters\n",
    "lambda_per_hour = 500  # average number of visits per hour\n",
    "threshold = 550  # max visits server can handle\n",
    "\n",
    "# Calculate the probability of being overwhelmed in one hour using Poisson distribution\n",
    "probability_one_hour = 1 - stats.poisson.cdf(threshold, lambda_per_hour)\n",
    "\n",
    "# Calculate the probability of being overwhelmed at least once in 24 hours\n",
    "probability_24_hours = 1 - (1 - probability_one_hour) ** 24\n",
    "\n",
    "print(f\"Probability of being overwhelmed in one hour: {probability_one_hour:.4f}\")\n",
    "\n"
   ]
  },
  {
   "cell_type": "markdown",
   "metadata": {},
   "source": [
    "What is the probability of being overwhelmed at some point during a day? (consider 24hours)"
   ]
  },
  {
   "cell_type": "code",
   "execution_count": 4,
   "metadata": {},
   "outputs": [
    {
     "name": "stdout",
     "output_type": "stream",
     "text": [
      "Probability of being overwhelmed at least once in 24 hours: 0.2677\n"
     ]
    }
   ],
   "source": [
    "print(f\"Probability of being overwhelmed at least once in 24 hours: {probability_24_hours:.4f}\")"
   ]
  },
  {
   "cell_type": "markdown",
   "metadata": {},
   "source": [
    "**Challenge 4**"
   ]
  },
  {
   "cell_type": "markdown",
   "metadata": {},
   "source": [
    "#### Ironhack Helpdesk"
   ]
  },
  {
   "cell_type": "markdown",
   "metadata": {},
   "source": [
    "Consider a scenario related to the time between arrivals of customers at a service desk.\n",
    "\n",
    "On average, a customers arrives every 10minutes.\n",
    "\n",
    "What is the probability that the next customer will arrive within the next 5 minutes?"
   ]
  },
  {
   "cell_type": "code",
   "execution_count": 5,
   "metadata": {},
   "outputs": [
    {
     "name": "stdout",
     "output_type": "stream",
     "text": [
      "Probability that the next customer arrives within 5 minutes: 0.3935\n"
     ]
    }
   ],
   "source": [
    "# Parameters\n",
    "lambda_per_minute = 1 / 10  # average number of arrivals per minute\n",
    "\n",
    "# Calculate the probability that the next customer arrives within 5 minutes\n",
    "probability_within_5_minutes = 1 - np.exp(-lambda_per_minute * 5)\n",
    "\n",
    "# Calculate the probability that an employee can take a break (no customer for 15 minutes)\n",
    "probability_break = np.exp(-lambda_per_minute * 15)\n",
    "\n",
    "print(f\"Probability that the next customer arrives within 5 minutes: {probability_within_5_minutes:.4f}\")\n",
    "\n"
   ]
  },
  {
   "cell_type": "markdown",
   "metadata": {},
   "source": [
    "If there is no customer for 15minutes, employees can that a 5minutes break.\n",
    "\n",
    "What is the probability an employee taking a break?"
   ]
  },
  {
   "cell_type": "code",
   "execution_count": 6,
   "metadata": {},
   "outputs": [
    {
     "name": "stdout",
     "output_type": "stream",
     "text": [
      "Probability that an employee can take a break: 0.2231\n"
     ]
    }
   ],
   "source": [
    "print(f\"Probability that an employee can take a break: {probability_break:.4f}\")"
   ]
  },
  {
   "cell_type": "markdown",
   "metadata": {},
   "source": [
    "**Challenge 5**"
   ]
  },
  {
   "cell_type": "markdown",
   "metadata": {},
   "source": [
    "The weights of a certain species of birds follow a normal distribution with a mean weight of 150 grams and a standard deviation of 10 grams. \n",
    "\n",
    "- If we randomly select a bird, what is the probability that its weight is between 140 and 160 grams?"
   ]
  },
  {
   "cell_type": "code",
   "execution_count": 7,
   "metadata": {},
   "outputs": [
    {
     "name": "stdout",
     "output_type": "stream",
     "text": [
      "Probability that a randomly selected bird weighs between 140 and 160 grams: 0.6827\n"
     ]
    }
   ],
   "source": [
    "# Parameters\n",
    "mean = 150  # mean weight\n",
    "std = 10  # standard deviation\n",
    "\n",
    "# Calculate the Z-scores\n",
    "z_score_140 = (140 - mean) / std\n",
    "z_score_160 = (160 - mean) / std\n",
    "\n",
    "# Calculate the probability that the weight is between 140 and 160 grams\n",
    "probability = stats.norm.cdf(z_score_160) - stats.norm.cdf(z_score_140)\n",
    "\n",
    "print(f\"Probability that a randomly selected bird weighs between 140 and 160 grams: {probability:.4f}\")\n"
   ]
  },
  {
   "cell_type": "markdown",
   "metadata": {},
   "source": [
    "**Challenge 6**"
   ]
  },
  {
   "cell_type": "markdown",
   "metadata": {},
   "source": [
    "If the lifetime (in hours) of a certain electronic component follows an exponential distribution with a mean lifetime of 50 hours, what is the probability that the component fails within the first 30 hours?"
   ]
  },
  {
   "cell_type": "code",
   "execution_count": 8,
   "metadata": {},
   "outputs": [
    {
     "name": "stdout",
     "output_type": "stream",
     "text": [
      "Probability that the component fails within the first 30 hours: 0.4512\n"
     ]
    }
   ],
   "source": [
    "# Parameters\n",
    "lambda_per_hour = 1 / 50  # rate parameter for exponential distribution\n",
    "\n",
    "# Calculate the probability that the component fails within the first 30 hours\n",
    "probability_fail_30_hours = 1 - np.exp(-lambda_per_hour * 30)\n",
    "\n",
    "print(f\"Probability that the component fails within the first 30 hours: {probability_fail_30_hours:.4f}\")\n"
   ]
  }
 ],
 "metadata": {
  "kernelspec": {
   "display_name": "Python 3",
   "language": "python",
   "name": "python3"
  },
  "language_info": {
   "codemirror_mode": {
    "name": "ipython",
    "version": 3
   },
   "file_extension": ".py",
   "mimetype": "text/x-python",
   "name": "python",
   "nbconvert_exporter": "python",
   "pygments_lexer": "ipython3",
   "version": "3.11.9"
  }
 },
 "nbformat": 4,
 "nbformat_minor": 2
}
